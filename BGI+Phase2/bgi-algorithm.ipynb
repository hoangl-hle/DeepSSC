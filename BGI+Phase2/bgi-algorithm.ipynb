{
 "cells": [
  {
   "cell_type": "code",
   "execution_count": 1,
   "metadata": {
    "execution": {
     "iopub.execute_input": "2022-06-17T08:49:32.923236Z",
     "iopub.status.busy": "2022-06-17T08:49:32.922403Z",
     "iopub.status.idle": "2022-06-17T08:49:48.199395Z",
     "shell.execute_reply": "2022-06-17T08:49:48.198576Z",
     "shell.execute_reply.started": "2022-06-17T08:49:32.923120Z"
    },
    "id": "coXGJzR8SedZ",
    "outputId": "25ac4887-d386-461a-df38-a1e995cabcd4"
   },
   "outputs": [
    {
     "name": "stdout",
     "output_type": "stream",
     "text": [
      "captum is NOT installed\n",
      "Installing...\n",
      "Collecting captum\n",
      "  Downloading captum-0.5.0-py3-none-any.whl (1.4 MB)\n",
      "Requirement already satisfied: numpy in /opt/conda/lib/python3.7/site-packages (from captum) (1.19.5)\n",
      "Requirement already satisfied: matplotlib in /opt/conda/lib/python3.7/site-packages (from captum) (3.4.3)\n",
      "Requirement already satisfied: torch>=1.6 in /opt/conda/lib/python3.7/site-packages (from captum) (1.7.1+cu110)\n",
      "Requirement already satisfied: typing-extensions in /opt/conda/lib/python3.7/site-packages (from torch>=1.6->captum) (3.7.4.3)\n",
      "Requirement already satisfied: kiwisolver>=1.0.1 in /opt/conda/lib/python3.7/site-packages (from matplotlib->captum) (1.3.1)\n",
      "Requirement already satisfied: cycler>=0.10 in /opt/conda/lib/python3.7/site-packages (from matplotlib->captum) (0.10.0)\n",
      "Requirement already satisfied: python-dateutil>=2.7 in /opt/conda/lib/python3.7/site-packages (from matplotlib->captum) (2.8.0)\n",
      "Requirement already satisfied: pillow>=6.2.0 in /opt/conda/lib/python3.7/site-packages (from matplotlib->captum) (8.3.1)\n",
      "Requirement already satisfied: pyparsing>=2.2.1 in /opt/conda/lib/python3.7/site-packages (from matplotlib->captum) (2.4.7)\n",
      "Requirement already satisfied: six in /opt/conda/lib/python3.7/site-packages (from cycler>=0.10->matplotlib->captum) (1.15.0)\n",
      "Installing collected packages: captum\n",
      "Successfully installed captum-0.5.0\n"
     ]
    },
    {
     "name": "stderr",
     "output_type": "stream",
     "text": [
      "WARNING: Running pip as the 'root' user can result in broken permissions and conflicting behaviour with the system package manager. It is recommended to use a virtual environment instead: https://pip.pypa.io/warnings/venv\n"
     ]
    },
    {
     "name": "stdout",
     "output_type": "stream",
     "text": [
      "Done!\n"
     ]
    }
   ],
   "source": [
    "import pandas as pd\n",
    "import numpy as np\n",
    "\n",
    "import torch\n",
    "from torch import nn\n",
    "import sklearn\n",
    "from sklearn.preprocessing import StandardScaler\n",
    "\n",
    "# To find out if a python package is installed or not\n",
    "# If not, installed it\n",
    "import pkg_resources\n",
    "import subprocess\n",
    "import sys\n",
    "\n",
    "def isinstall(packages_list):\n",
    "    for package in packages_list:\n",
    "        try:\n",
    "            dist = pkg_resources.get_distribution(package)\n",
    "            print('{} ({}) is installed'.format(dist.key, dist.version))\n",
    "        except pkg_resources.DistributionNotFound:\n",
    "            print('{} is NOT installed'.format(package))\n",
    "            print('Installing...')\n",
    "            subprocess.check_call([sys.executable, '-m', 'pip', 'install', package])\n",
    "            print('Done!')\n",
    "\n",
    "# Check and install Captum package (for model interpretability ) if necesssary\n",
    "isinstall(['captum'])\n",
    "import captum\n",
    "from captum.attr import (\n",
    "    IntegratedGradients\n",
    ")"
   ]
  },
  {
   "cell_type": "markdown",
   "metadata": {
    "id": "UlK7SiiCSedh"
   },
   "source": [
    "# Config values"
   ]
  },
  {
   "cell_type": "code",
   "execution_count": 2,
   "metadata": {
    "execution": {
     "iopub.execute_input": "2022-06-17T08:49:48.206036Z",
     "iopub.status.busy": "2022-06-17T08:49:48.204060Z",
     "iopub.status.idle": "2022-06-17T08:49:48.216202Z",
     "shell.execute_reply": "2022-06-17T08:49:48.214950Z",
     "shell.execute_reply.started": "2022-06-17T08:49:48.205997Z"
    },
    "id": "-aC_889HSedi"
   },
   "outputs": [],
   "source": [
    "# Threshold to take number of genes (biomarkers) per subtype\n",
    "THRESHOLD = 100 \n",
    "# COHORT: TCGA_BRCA, TCGA_LUNG, TCGA_CRC\n",
    "COHORT = 'TCGA_BRCA'"
   ]
  },
  {
   "cell_type": "code",
   "execution_count": 3,
   "metadata": {
    "execution": {
     "iopub.execute_input": "2022-06-17T08:49:48.221377Z",
     "iopub.status.busy": "2022-06-17T08:49:48.220964Z",
     "iopub.status.idle": "2022-06-17T08:49:48.232893Z",
     "shell.execute_reply": "2022-06-17T08:49:48.232231Z",
     "shell.execute_reply.started": "2022-06-17T08:49:48.221344Z"
    },
    "id": "EbmUFHl4Sedi"
   },
   "outputs": [],
   "source": [
    "assert COHORT in ['TCGA_BRCA','TCGA_LUNG', 'TCGA_CRC']\n",
    "LIST_OMICS = ['GE', 'CNA']\n",
    "ROOT_DATA_FOLDER = '../input/deepssc-omics-pretrained-model-and-biomarkers/DeepSSC_data/'\n",
    "DATA_FOLDER = {'train':ROOT_DATA_FOLDER + f'{COHORT}/data/train/train_val_split/',\n",
    "               'val':ROOT_DATA_FOLDER + f'{COHORT}/data/train/train_val_split/',\n",
    "              'test':ROOT_DATA_FOLDER + f'{COHORT}/data/test/'}\n",
    "PRETRAINED_MODEL = ROOT_DATA_FOLDER + f'{COHORT}/model/model/model.pt'\n",
    "# Using unlabeled data to train autoencoder (z-norm with both labeled and unlabeled data) or not\n",
    "USED_UNLABELED_DATA = (COHORT == 'TCGA_BRCA') | (COHORT == 'TCGA_CRC') \n",
    "\n",
    "LIST_TYPE_DATA = ['train', 'val', 'test']\n",
    "DTYPE_INTEGER = 'int64'\n",
    "DTYPE_FLOAT = 'float32'\n",
    "\n",
    "# To be used to double check the accuracy on the test set\n",
    "# To make sure the correct data and model are entered for the reproducibility of the results\n",
    "ACC = {}\n",
    "ACC['TCGA_BRCA'] = 0.8711656332015991\n",
    "ACC['TCGA_LUNG'] = 0.9603960514068604\n",
    "ACC['TCGA_CRC'] = 0.8867924809455872"
   ]
  },
  {
   "cell_type": "markdown",
   "metadata": {
    "id": "9phTixaOSedj"
   },
   "source": [
    "# Load data and model"
   ]
  },
  {
   "cell_type": "code",
   "execution_count": 4,
   "metadata": {
    "execution": {
     "iopub.execute_input": "2022-06-17T08:49:48.237766Z",
     "iopub.status.busy": "2022-06-17T08:49:48.237326Z",
     "iopub.status.idle": "2022-06-17T08:50:31.184443Z",
     "shell.execute_reply": "2022-06-17T08:50:31.183690Z",
     "shell.execute_reply.started": "2022-06-17T08:49:48.237734Z"
    },
    "id": "C0yjAXMASedj"
   },
   "outputs": [],
   "source": [
    "dict_df_label = {}\n",
    "dict_df_data = {}\n",
    "X = {}\n",
    "y= {}\n",
    "# Read data as df and create numpy array data for labeled data\n",
    "for type_data in LIST_TYPE_DATA:\n",
    "    dict_df_label[type_data] = pd.read_csv(DATA_FOLDER[type_data] + f'df_label_{type_data}.csv', index_col='sampleID')\n",
    "    \n",
    "    dict_df_omics = {}\n",
    "    dict_narray_omics = {}\n",
    "    for omic in LIST_OMICS:\n",
    "        dict_df_omics[omic] = pd.read_csv(DATA_FOLDER[type_data] + f'df_{type_data}_{omic}_labeled.csv', index_col='sampleID')\n",
    "        dict_narray_omics[omic] = dict_df_omics[omic].to_numpy(dtype=DTYPE_FLOAT, copy=True)\n",
    "    dict_df_data[type_data] = dict_df_omics\n",
    "    X[type_data] = dict_narray_omics\n",
    "\n",
    "LABEL_MAPPING_NAME = dict_df_label['train']['disease_subtypes'].astype('category').cat.categories # sorted by alphabetical order\n",
    "# Convert categorical label to numerical label\n",
    "for type_data in LIST_TYPE_DATA:\n",
    "    dict_df_label[type_data].loc[:,'disease_subtypes'] = dict_df_label[type_data]['disease_subtypes'].astype('category').cat.codes\n",
    "    y[type_data] = np.squeeze(dict_df_label[type_data]['disease_subtypes'].to_numpy(dtype=DTYPE_INTEGER, copy=True))\n",
    "\n",
    "# Read data as df and create numpy array data for unlabeled data\n",
    "if USED_UNLABELED_DATA:\n",
    "    dict_df_omics = {}\n",
    "    dict_narray_omics = {}\n",
    "    \n",
    "    for omic in LIST_OMICS:\n",
    "        dict_df_omics[omic] = pd.read_csv(DATA_FOLDER['train'] + f'df_train_{omic}_unlabeled.csv', index_col='sampleID')\n",
    "        dict_narray_omics[omic] = dict_df_omics[omic].to_numpy(dtype=DTYPE_FLOAT, copy=True)\n",
    "    dict_df_data['unlabeled'] = dict_df_omics\n",
    "    X['unlabeled'] = dict_narray_omics\n",
    "    \n",
    "# z-norm\n",
    "scaler = {}\n",
    "for omic in LIST_OMICS: \n",
    "    scaler[omic] = StandardScaler()\n",
    "    if USED_UNLABELED_DATA:\n",
    "        scaler[omic].fit(\n",
    "            np.concatenate((X['train'][omic], X['unlabeled'][omic]),axis=0)\n",
    "        )\n",
    "    else:\n",
    "        scaler[omic].fit(X['train'][omic])\n",
    "    for type_data in LIST_TYPE_DATA:\n",
    "        X[type_data][omic] = scaler[omic].transform(X[type_data][omic])"
   ]
  },
  {
   "cell_type": "code",
   "execution_count": 5,
   "metadata": {
    "execution": {
     "iopub.execute_input": "2022-06-17T08:50:31.185870Z",
     "iopub.status.busy": "2022-06-17T08:50:31.185593Z",
     "iopub.status.idle": "2022-06-17T08:50:31.201958Z",
     "shell.execute_reply": "2022-06-17T08:50:31.201206Z",
     "shell.execute_reply.started": "2022-06-17T08:50:31.185838Z"
    },
    "id": "MLgBv-FhSedk"
   },
   "outputs": [],
   "source": [
    "class GEautoencoder(nn.Module):\n",
    "    def __init__(self, fan_in):\n",
    "        super(GEautoencoder, self).__init__()\n",
    "        self.encoder = nn.Sequential(\n",
    "            nn.Dropout(0.5),\n",
    "            nn.Linear(fan_in, 4096),\n",
    "            nn.BatchNorm1d(4096),\n",
    "            nn.ELU(),\n",
    "            nn.Linear(4096, 2048),\n",
    "            nn.ELU()\n",
    "        )\n",
    "        self.decoder = nn.Sequential(\n",
    "            nn.Linear(2048, 4096),\n",
    "            nn.ELU(),\n",
    "            nn.Linear(4096, fan_in)\n",
    "        )\n",
    "\n",
    "    def forward(self, x):\n",
    "        x = self.encoder(x)\n",
    "        x = self.decoder(x)\n",
    "        return x\n",
    "\n",
    "class CNVautoencoder(nn.Module):\n",
    "    def __init__(self, fan_in):\n",
    "        super(CNVautoencoder, self).__init__()\n",
    "        self.encoder = nn.Sequential(\n",
    "            nn.Dropout(0.5),\n",
    "            nn.Linear(fan_in, 4096),\n",
    "            nn.BatchNorm1d(4096),\n",
    "            nn.ELU(),\n",
    "            nn.Linear(4096, 1024),\n",
    "            nn.ELU()\n",
    "        )\n",
    "        self.decoder = nn.Sequential(\n",
    "            nn.Linear(1024, 4096),\n",
    "            nn.ELU(),\n",
    "            nn.Linear(4096, fan_in)\n",
    "        )\n",
    "\n",
    "    def forward(self, x):\n",
    "        x = self.encoder(x)\n",
    "        x = self.decoder(x)\n",
    "        return x\n",
    "\n",
    "class Subtyping_model(nn.Module):\n",
    "    def __init__(self, ge_encoder, cnv_encoder, subtypes):\n",
    "        super(Subtyping_model, self).__init__()\n",
    "        \n",
    "        self.ge_repr = nn.Sequential(*list(ge_encoder.children())[1:])\n",
    "        self.cnv_repr = nn.Sequential(*list(cnv_encoder.children())[1:])\n",
    "        \n",
    "        self.classifier = nn.Sequential(\n",
    "            nn.Linear(2048+1024, 1024),\n",
    "            nn.ELU(),\n",
    "            nn.Linear(1024, subtypes)\n",
    "        )\n",
    "        \n",
    "    def forward(self, x1, x2):\n",
    "        ge_ft = self.ge_repr(x1)\n",
    "        cnv_ft = self.cnv_repr(x2)\n",
    "\n",
    "        return self.classifier(torch.hstack((ge_ft, cnv_ft)))"
   ]
  },
  {
   "cell_type": "code",
   "execution_count": 6,
   "metadata": {
    "execution": {
     "iopub.execute_input": "2022-06-17T08:50:31.205015Z",
     "iopub.status.busy": "2022-06-17T08:50:31.204799Z",
     "iopub.status.idle": "2022-06-17T08:50:46.183453Z",
     "shell.execute_reply": "2022-06-17T08:50:46.182767Z",
     "shell.execute_reply.started": "2022-06-17T08:50:31.204969Z"
    },
    "id": "1jMidRaTSedm",
    "outputId": "4bb53ce6-1ab8-4461-82cc-16dc4efdb024"
   },
   "outputs": [
    {
     "data": {
      "text/plain": [
       "Subtyping_model(\n",
       "  (ge_repr): Sequential(\n",
       "    (0): Linear(in_features=20530, out_features=4096, bias=True)\n",
       "    (1): BatchNorm1d(4096, eps=1e-05, momentum=0.1, affine=True, track_running_stats=True)\n",
       "    (2): ELU(alpha=1.0)\n",
       "    (3): Linear(in_features=4096, out_features=2048, bias=True)\n",
       "    (4): ELU(alpha=1.0)\n",
       "  )\n",
       "  (cnv_repr): Sequential(\n",
       "    (0): Linear(in_features=24776, out_features=4096, bias=True)\n",
       "    (1): BatchNorm1d(4096, eps=1e-05, momentum=0.1, affine=True, track_running_stats=True)\n",
       "    (2): ELU(alpha=1.0)\n",
       "    (3): Linear(in_features=4096, out_features=1024, bias=True)\n",
       "    (4): ELU(alpha=1.0)\n",
       "  )\n",
       "  (classifier): Sequential(\n",
       "    (0): Linear(in_features=3072, out_features=1024, bias=True)\n",
       "    (1): ELU(alpha=1.0)\n",
       "    (2): Linear(in_features=1024, out_features=5, bias=True)\n",
       "  )\n",
       ")"
      ]
     },
     "execution_count": 6,
     "metadata": {},
     "output_type": "execute_result"
    }
   ],
   "source": [
    "# Load pretrained model\n",
    "number_of_subtypes = len(LABEL_MAPPING_NAME)\n",
    "classifier = Subtyping_model(GEautoencoder(fan_in = X['train']['GE'].shape[1]).encoder,\n",
    "                             CNVautoencoder(fan_in = X['train']['CNA'].shape[1]).encoder,\n",
    "                             subtypes = number_of_subtypes)\n",
    "classifier.load_state_dict(torch.load(PRETRAINED_MODEL))\n",
    "classifier.cuda()"
   ]
  },
  {
   "cell_type": "code",
   "execution_count": 7,
   "metadata": {
    "execution": {
     "iopub.execute_input": "2022-06-17T08:50:46.185116Z",
     "iopub.status.busy": "2022-06-17T08:50:46.184636Z",
     "iopub.status.idle": "2022-06-17T08:50:46.263348Z",
     "shell.execute_reply": "2022-06-17T08:50:46.262706Z",
     "shell.execute_reply.started": "2022-06-17T08:50:46.185082Z"
    },
    "id": "RFmRCkItSedn",
    "outputId": "08d37c41-5e28-477b-a731-f5eb29173c69"
   },
   "outputs": [
    {
     "name": "stdout",
     "output_type": "stream",
     "text": [
      "(array(['Basal', 'Her2', 'LumA', 'LumB', 'Normal'], dtype=object), array([23,  9, 61, 32,  5]))\n",
      "acc = 142/163 = 0.8711656332015991\n"
     ]
    }
   ],
   "source": [
    "# Double check the accuracy on the test set \n",
    "# To make sure the correct data and model are entered for the reproducibility of the results\n",
    "print(np.unique(LABEL_MAPPING_NAME[y['val']], return_counts=True))\n",
    "type_data = 'test'\n",
    "_input = (torch.from_numpy(X[type_data][omic]).cuda() for omic in LIST_OMICS)\n",
    "_target = torch.from_numpy(y[type_data]).cuda()\n",
    "classifier.eval()\n",
    "with torch.no_grad():\n",
    "    pred = classifier(*_input)\n",
    "    pred = torch.argmax(pred,dim=1)\n",
    "    sum_true_label = torch.sum(pred == _target)\n",
    "    number_samples = len(_target)\n",
    "    acc = sum_true_label/number_samples\n",
    "    print(f'acc = {sum_true_label}/{number_samples} = {acc}')\n",
    "    \n",
    "assert (acc == ACC[COHORT]), 'Cannot reproduce experimental results, check your data and model'"
   ]
  },
  {
   "cell_type": "markdown",
   "metadata": {
    "id": "M-abVLANSedo"
   },
   "source": [
    "# Discover biomarkers"
   ]
  },
  {
   "cell_type": "code",
   "execution_count": 8,
   "metadata": {
    "execution": {
     "iopub.execute_input": "2022-06-17T08:50:46.269293Z",
     "iopub.status.busy": "2022-06-17T08:50:46.266987Z",
     "iopub.status.idle": "2022-06-17T08:50:46.275358Z",
     "shell.execute_reply": "2022-06-17T08:50:46.274471Z",
     "shell.execute_reply.started": "2022-06-17T08:50:46.269257Z"
    },
    "id": "0v7cZ11LSedo"
   },
   "outputs": [],
   "source": [
    "ig = IntegratedGradients(classifier)"
   ]
  },
  {
   "cell_type": "code",
   "execution_count": 9,
   "metadata": {
    "execution": {
     "iopub.execute_input": "2022-06-17T08:50:46.282470Z",
     "iopub.status.busy": "2022-06-17T08:50:46.280123Z",
     "iopub.status.idle": "2022-06-17T08:51:17.700864Z",
     "shell.execute_reply": "2022-06-17T08:51:17.700097Z",
     "shell.execute_reply.started": "2022-06-17T08:50:46.282435Z"
    },
    "id": "KEKWVGRISedo",
    "outputId": "eef8e51d-6258-404e-c463-7f7b8aada3cd"
   },
   "outputs": [
    {
     "name": "stdout",
     "output_type": "stream",
     "text": [
      "Calculate attribution scores with subtype Basal:\n",
      "\t samples from iloc 0 to 200\n",
      "\t samples from iloc 200 to 400\n",
      "\t samples from iloc 400 to 656\n",
      "Calculate attribution scores with subtype Her2:\n",
      "\t samples from iloc 0 to 200\n",
      "\t samples from iloc 200 to 400\n",
      "\t samples from iloc 400 to 656\n",
      "Calculate attribution scores with subtype LumA:\n",
      "\t samples from iloc 0 to 200\n",
      "\t samples from iloc 200 to 400\n",
      "\t samples from iloc 400 to 656\n",
      "Calculate attribution scores with subtype LumB:\n",
      "\t samples from iloc 0 to 200\n",
      "\t samples from iloc 200 to 400\n",
      "\t samples from iloc 400 to 656\n",
      "Calculate attribution scores with subtype Normal:\n",
      "\t samples from iloc 0 to 200\n",
      "\t samples from iloc 200 to 400\n",
      "\t samples from iloc 400 to 656\n"
     ]
    }
   ],
   "source": [
    "# Remove str after \"|\" in gene id and create data to interpret (merge train and val dataset) \n",
    "gene_name = []\n",
    "X_interpret = {}\n",
    "for omic in LIST_OMICS:\n",
    "    gene_name.extend(dict_df_data['train'][omic].columns.str.split(r'\\|').str[0])\n",
    "    X_interpret[omic] = np.concatenate((X['train'][omic], X['val'][omic]))\n",
    "y_interpret = np.concatenate((y['train'],y['val']))\n",
    "\n",
    "# Calculate attribute scores by batch data to avoid running out of memory\n",
    "# 200 is the maximum (approximate) number of samples that will not cause run out of memory\n",
    "max_samples_per_batch = 200\n",
    "# Get list end of index to split data into batches\n",
    "number_of_samples = len(y_interpret)\n",
    "list_end_index = [max_samples_per_batch*times \n",
    "                  for times in range(1,int(number_of_samples/max_samples_per_batch))\n",
    "                 ] + [number_of_samples]\n",
    "\n",
    "# Calculate attribute score:\n",
    "attr = {}\n",
    "for subtype_idx, subtype in enumerate(LABEL_MAPPING_NAME):\n",
    "    start = 0\n",
    "    print(f'Calculate attribution scores with subtype {subtype}:')\n",
    "    for end in list_end_index:\n",
    "        print(f'\\t samples from iloc {start} to {end}')\n",
    "        \n",
    "        input_tensor = (torch.from_numpy(X_interpret['GE'][start:end]).cuda().requires_grad_(),\\\n",
    "                         torch.from_numpy(X_interpret['CNA'][start:end]).cuda().requires_grad_())\n",
    "        \n",
    "        attr_temp, delta_temp = ig.attribute(input_tensor,\n",
    "                                             target= subtype_idx, return_convergence_delta=True)\n",
    "        # concatenate genes attribute score for multi-omics data\n",
    "        attr_temp = np.concatenate((attr_temp[0].detach().cpu().numpy(),attr_temp[1].detach().cpu().numpy()), axis=1)\n",
    "        if start == 0:\n",
    "            attr[subtype] =  attr_temp\n",
    "        else:\n",
    "            attr[subtype] = np.concatenate((attr[subtype],attr_temp),axis=0)\n",
    "        start=end"
   ]
  },
  {
   "cell_type": "code",
   "execution_count": 10,
   "metadata": {
    "execution": {
     "iopub.execute_input": "2022-06-17T08:51:17.703204Z",
     "iopub.status.busy": "2022-06-17T08:51:17.703002Z",
     "iopub.status.idle": "2022-06-17T08:51:20.788928Z",
     "shell.execute_reply": "2022-06-17T08:51:20.788175Z",
     "shell.execute_reply.started": "2022-06-17T08:51:17.703180Z"
    },
    "id": "X2ZvsQ6iSedp"
   },
   "outputs": [],
   "source": [
    "df_attr = {}\n",
    "# Build dataframe and rename gene id to gene name\n",
    "for subtype in LABEL_MAPPING_NAME:\n",
    "    df_attr[subtype] = pd.DataFrame(attr[subtype], columns=gene_name)\n",
    "\n",
    "# Take mean all column (gene name) that have same name\n",
    "for subtype in LABEL_MAPPING_NAME:\n",
    "    df_attr[subtype] = df_attr[subtype].groupby(by=df_attr[subtype].columns, axis=1).mean()"
   ]
  },
  {
   "cell_type": "code",
   "execution_count": 11,
   "metadata": {
    "execution": {
     "iopub.execute_input": "2022-06-17T08:51:20.790610Z",
     "iopub.status.busy": "2022-06-17T08:51:20.790367Z",
     "iopub.status.idle": "2022-06-17T08:51:22.016222Z",
     "shell.execute_reply": "2022-06-17T08:51:22.015482Z",
     "shell.execute_reply.started": "2022-06-17T08:51:20.790580Z"
    },
    "id": "_vk9YUhnSedp"
   },
   "outputs": [],
   "source": [
    "# y predict by classifier/pretrained model\n",
    "y_predict = torch.argmax(classifier(torch.from_numpy(X_interpret['GE']).cuda(),\n",
    "                                       torch.from_numpy(X_interpret['CNA']).cuda()),\n",
    "                                   axis=1).detach().cpu().numpy()\n",
    "rank_score_by_subtype = {}\n",
    "rank_score_by_subtype_POS = {}\n",
    "rank_score_by_subtype_NEG = {}\n",
    "\n",
    "matrix_top_threshold = pd.DataFrame()\n",
    "for idx, subtype in enumerate(LABEL_MAPPING_NAME):\n",
    "    temp_score = df_attr[subtype].loc[np.where((y_interpret == idx) &\\\n",
    "                                                        (y_predict == y_interpret)\\\n",
    "                                              )[0],:].mean(axis=0)\n",
    "    rank_score_by_subtype_POS[subtype] = temp_score[temp_score>0].sort_values(ascending=False)\n",
    "    temp_score = df_attr[subtype].loc[np.where((y_interpret != idx) &\\\n",
    "                                                        (y_predict == y_interpret)\\\n",
    "                                              )[0],:].mean(axis=0)\n",
    "    \n",
    "    rank_score_by_subtype_NEG[subtype] = temp_score[temp_score<0].sort_values(ascending=True).abs()\n",
    "    rank_score_by_subtype[subtype] = rank_score_by_subtype_POS[subtype].append(\n",
    "        rank_score_by_subtype_NEG[subtype])\n",
    "    rank_score_by_subtype[subtype] = rank_score_by_subtype[subtype].sort_values(ascending=False)\n",
    "    \n",
    "    if len(LABEL_MAPPING_NAME) == 2:\n",
    "        # Binary Classifier\n",
    "        threshold_inner = THRESHOLD\n",
    "        count_inner = 0\n",
    "        while count_inner != THRESHOLD:\n",
    "            count_inner = rank_score_by_subtype[subtype].iloc[:threshold_inner].index.nunique()\n",
    "            if count_inner != THRESHOLD:\n",
    "                threshold_inner = threshold_inner+1\n",
    "            else:\n",
    "                temp = pd.Series(list(rank_score_by_subtype[subtype].iloc[:threshold_inner].index))\n",
    "                temp = temp[~temp.duplicated(keep='first')].reset_index(drop=True)\n",
    "                matrix_top_threshold[subtype] = temp\n",
    "    else:\n",
    "        # Multi-class Classifier\n",
    "        matrix_top_threshold[subtype] = list(rank_score_by_subtype[subtype].iloc[:THRESHOLD].index)\n",
    "matrix_top_threshold.to_csv(f'matrix_biomarkers.csv',index=False)"
   ]
  },
  {
   "cell_type": "code",
   "execution_count": 12,
   "metadata": {
    "execution": {
     "iopub.execute_input": "2022-06-17T08:51:22.018060Z",
     "iopub.status.busy": "2022-06-17T08:51:22.017657Z",
     "iopub.status.idle": "2022-06-17T08:51:22.037300Z",
     "shell.execute_reply": "2022-06-17T08:51:22.036584Z",
     "shell.execute_reply.started": "2022-06-17T08:51:22.018025Z"
    },
    "id": "oEx3_JZpSedq",
    "outputId": "0576cf3f-cab7-4d2f-c8a7-d2e9636c4fc3"
   },
   "outputs": [
    {
     "data": {
      "text/html": [
       "<div>\n",
       "<style scoped>\n",
       "    .dataframe tbody tr th:only-of-type {\n",
       "        vertical-align: middle;\n",
       "    }\n",
       "\n",
       "    .dataframe tbody tr th {\n",
       "        vertical-align: top;\n",
       "    }\n",
       "\n",
       "    .dataframe thead th {\n",
       "        text-align: right;\n",
       "    }\n",
       "</style>\n",
       "<table border=\"1\" class=\"dataframe\">\n",
       "  <thead>\n",
       "    <tr style=\"text-align: right;\">\n",
       "      <th></th>\n",
       "      <th>Basal</th>\n",
       "      <th>Her2</th>\n",
       "      <th>LumA</th>\n",
       "      <th>LumB</th>\n",
       "      <th>Normal</th>\n",
       "    </tr>\n",
       "  </thead>\n",
       "  <tbody>\n",
       "    <tr>\n",
       "      <th>0</th>\n",
       "      <td>MGC3771</td>\n",
       "      <td>LOC150622</td>\n",
       "      <td>C10orf26</td>\n",
       "      <td>WDR67</td>\n",
       "      <td>OR5E1P</td>\n",
       "    </tr>\n",
       "    <tr>\n",
       "      <th>1</th>\n",
       "      <td>C6orf97</td>\n",
       "      <td>GRB7</td>\n",
       "      <td>WDR67</td>\n",
       "      <td>PPIL5</td>\n",
       "      <td>C1orf97</td>\n",
       "    </tr>\n",
       "    <tr>\n",
       "      <th>2</th>\n",
       "      <td>UPF0639</td>\n",
       "      <td>C17orf37</td>\n",
       "      <td>C9orf100</td>\n",
       "      <td>C12orf48</td>\n",
       "      <td>LOC728264</td>\n",
       "    </tr>\n",
       "    <tr>\n",
       "      <th>3</th>\n",
       "      <td>DLX6AS</td>\n",
       "      <td>ERBB2</td>\n",
       "      <td>FLJ36777</td>\n",
       "      <td>TIMELESS</td>\n",
       "      <td>OR2L13</td>\n",
       "    </tr>\n",
       "    <tr>\n",
       "      <th>4</th>\n",
       "      <td>C10orf26</td>\n",
       "      <td>STARD3</td>\n",
       "      <td>LASS4</td>\n",
       "      <td>CCDC99</td>\n",
       "      <td>CSN1S2A</td>\n",
       "    </tr>\n",
       "    <tr>\n",
       "      <th>...</th>\n",
       "      <td>...</td>\n",
       "      <td>...</td>\n",
       "      <td>...</td>\n",
       "      <td>...</td>\n",
       "      <td>...</td>\n",
       "    </tr>\n",
       "    <tr>\n",
       "      <th>95</th>\n",
       "      <td>FAM47E</td>\n",
       "      <td>KTELC1</td>\n",
       "      <td>FAM83D</td>\n",
       "      <td>RASSF10</td>\n",
       "      <td>LOC338758</td>\n",
       "    </tr>\n",
       "    <tr>\n",
       "      <th>96</th>\n",
       "      <td>FBN3</td>\n",
       "      <td>EPB49</td>\n",
       "      <td>METT5D1</td>\n",
       "      <td>GINS1</td>\n",
       "      <td>SLC27A6</td>\n",
       "    </tr>\n",
       "    <tr>\n",
       "      <th>97</th>\n",
       "      <td>PPP1CB</td>\n",
       "      <td>C17orf39</td>\n",
       "      <td>MEIS3P1</td>\n",
       "      <td>CASC5</td>\n",
       "      <td>IL22RA2</td>\n",
       "    </tr>\n",
       "    <tr>\n",
       "      <th>98</th>\n",
       "      <td>CDH19</td>\n",
       "      <td>COX7B2</td>\n",
       "      <td>C20orf114</td>\n",
       "      <td>FBXO5</td>\n",
       "      <td>NR3C1</td>\n",
       "    </tr>\n",
       "    <tr>\n",
       "      <th>99</th>\n",
       "      <td>SLC6A2</td>\n",
       "      <td>TFCP2L1</td>\n",
       "      <td>ORC1L</td>\n",
       "      <td>FAM55C</td>\n",
       "      <td>LRRC50</td>\n",
       "    </tr>\n",
       "  </tbody>\n",
       "</table>\n",
       "<p>100 rows × 5 columns</p>\n",
       "</div>"
      ],
      "text/plain": [
       "       Basal       Her2       LumA      LumB     Normal\n",
       "0    MGC3771  LOC150622   C10orf26     WDR67     OR5E1P\n",
       "1    C6orf97       GRB7      WDR67     PPIL5    C1orf97\n",
       "2    UPF0639   C17orf37   C9orf100  C12orf48  LOC728264\n",
       "3     DLX6AS      ERBB2   FLJ36777  TIMELESS     OR2L13\n",
       "4   C10orf26     STARD3      LASS4    CCDC99    CSN1S2A\n",
       "..       ...        ...        ...       ...        ...\n",
       "95    FAM47E     KTELC1     FAM83D   RASSF10  LOC338758\n",
       "96      FBN3      EPB49    METT5D1     GINS1    SLC27A6\n",
       "97    PPP1CB   C17orf39    MEIS3P1     CASC5    IL22RA2\n",
       "98     CDH19     COX7B2  C20orf114     FBXO5      NR3C1\n",
       "99    SLC6A2    TFCP2L1      ORC1L    FAM55C     LRRC50\n",
       "\n",
       "[100 rows x 5 columns]"
      ]
     },
     "execution_count": 12,
     "metadata": {},
     "output_type": "execute_result"
    }
   ],
   "source": [
    "matrix_top_threshold"
   ]
  },
  {
   "cell_type": "code",
   "execution_count": 13,
   "metadata": {
    "execution": {
     "iopub.execute_input": "2022-06-17T08:51:22.038940Z",
     "iopub.status.busy": "2022-06-17T08:51:22.038670Z",
     "iopub.status.idle": "2022-06-17T08:51:22.047926Z",
     "shell.execute_reply": "2022-06-17T08:51:22.046303Z",
     "shell.execute_reply.started": "2022-06-17T08:51:22.038908Z"
    },
    "id": "YfbqO4SGSedr",
    "outputId": "ad1c2fcc-1709-4f56-d94c-b21ef716fa8d"
   },
   "outputs": [
    {
     "name": "stdout",
     "output_type": "stream",
     "text": [
      "Number of unique genes top 10: 46\n",
      "Number of unique genes top 100: 428\n"
     ]
    }
   ],
   "source": [
    "print('Number of unique genes top 10:',len(set(matrix_top_threshold.iloc[:10,:].to_numpy(copy=True).reshape(-1).tolist())))\n",
    "print('Number of unique genes top 100:',len(set(matrix_top_threshold.iloc[:100,:].to_numpy(copy=True).reshape(-1).tolist())))"
   ]
  },
  {
   "cell_type": "code",
   "execution_count": 14,
   "metadata": {
    "execution": {
     "iopub.execute_input": "2022-06-17T08:51:22.049519Z",
     "iopub.status.busy": "2022-06-17T08:51:22.049067Z",
     "iopub.status.idle": "2022-06-17T08:51:22.056930Z",
     "shell.execute_reply": "2022-06-17T08:51:22.056218Z",
     "shell.execute_reply.started": "2022-06-17T08:51:22.049485Z"
    },
    "id": "mKqdSncDQZrH"
   },
   "outputs": [
    {
     "name": "stdout",
     "output_type": "stream",
     "text": [
      "1.19.5\n",
      "1.2.5\n",
      "0.23.2\n",
      "1.7.1+cu110\n",
      "0.5.0\n"
     ]
    }
   ],
   "source": [
    "print(np.__version__)\n",
    "print(pd.__version__)\n",
    "print(sklearn.__version__)\n",
    "print(torch.__version__)\n",
    "print(captum.__version__)"
   ]
  }
 ],
 "metadata": {
  "kernelspec": {
   "display_name": "Python 3 (ipykernel)",
   "language": "python",
   "name": "python3"
  },
  "language_info": {
   "codemirror_mode": {
    "name": "ipython",
    "version": 3
   },
   "file_extension": ".py",
   "mimetype": "text/x-python",
   "name": "python",
   "nbconvert_exporter": "python",
   "pygments_lexer": "ipython3",
   "version": "3.8.2"
  }
 },
 "nbformat": 4,
 "nbformat_minor": 4
}
